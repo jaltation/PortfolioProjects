{
 "cells": [
  {
   "cell_type": "code",
   "execution_count": 1,
   "id": "6579588a-05f9-48e4-a27f-5f890bcd139b",
   "metadata": {},
   "outputs": [],
   "source": [
    "#import packages, concatenate csv files into dataframe\n",
    "\n",
    "import pandas as pd\n",
    "import numpy as np\n",
    "import matplotlib.pyplot as plt\n",
    "import glob\n",
    "\n",
    "files = glob.glob(\"states*.csv\")\n",
    "\n",
    "df_list = []\n",
    "for n in files:\n",
    "  data = pd.read_csv(n)\n",
    "  df_list.append(data)\n",
    "census_df = pd.concat(df_list)"
   ]
  },
  {
   "cell_type": "code",
   "execution_count": 2,
   "id": "af644ac8-a360-4519-88af-f0f24aa49e12",
   "metadata": {
    "tags": []
   },
   "outputs": [
    {
     "name": "stdout",
     "output_type": "stream",
     "text": [
      "   Unnamed: 0       State  TotalPop             Hispanic                White  \\\n",
      "0           0     Alabama   4830620  3.7516156462584975%     61.878656462585%   \n",
      "1           1      Alaska    733375   5.909580838323351%  60.910179640718574%   \n",
      "2           2     Arizona   6641928  29.565921052631502%  57.120000000000026%   \n",
      "3           3    Arkansas   2958208   6.215474452554738%   71.13781021897813%   \n",
      "4           4  California  38421464  37.291874687968054%   40.21578881677474%   \n",
      "\n",
      "                 Black                Native                Asian  \\\n",
      "0   31.25297619047618%   0.4532312925170065%  1.0502551020408146%   \n",
      "1  2.8485029940119775%    16.39101796407186%   5.450299401197604%   \n",
      "2  3.8509868421052658%     4.35506578947368%   2.876578947368419%   \n",
      "3  18.968759124087573%   0.5229197080291965%  1.1423357664233578%   \n",
      "4   5.677396405391911%  0.40529206190713685%  13.052234148776776%   \n",
      "\n",
      "                Pacific              Income            GenderPop  \n",
      "0  0.03435374149659865%  $43296.35860306644    2341093M_2489527F  \n",
      "1   1.0586826347305378%  $70354.74390243902      384160M_349215F  \n",
      "2  0.16763157894736833%  $54207.82095490716    3299088M_3342840F  \n",
      "3  0.14686131386861315%  $41935.63396778917    1451913M_1506295F  \n",
      "4  0.35141038442336353%  $67264.78230266465  19087135M_19334329F  \n",
      "\n",
      "Columns\n",
      "Index(['Unnamed: 0', 'State', 'TotalPop', 'Hispanic', 'White', 'Black',\n",
      "       'Native', 'Asian', 'Pacific', 'Income', 'GenderPop'],\n",
      "      dtype='object')\n",
      "\n",
      "Datatypes in each Column\n",
      "Unnamed: 0     int64\n",
      "State         object\n",
      "TotalPop       int64\n",
      "Hispanic      object\n",
      "White         object\n",
      "Black         object\n",
      "Native        object\n",
      "Asian         object\n",
      "Pacific       object\n",
      "Income        object\n",
      "GenderPop     object\n",
      "dtype: object\n",
      "\n",
      "Duplicate Count:\n",
      "False    51\n",
      "True      9\n",
      "dtype: int64\n"
     ]
    }
   ],
   "source": [
    "#View the data\n",
    "\n",
    "print(census_df.head())\n",
    "print('\\nColumns')\n",
    "print(census_df.columns)\n",
    "print('\\nDatatypes in each Column')\n",
    "print(census_df.dtypes)\n",
    "\n",
    "#Count the duplicates\n",
    "print('\\nDuplicate Count:')\n",
    "print(census_df.duplicated(subset='State').value_counts())"
   ]
  },
  {
   "cell_type": "code",
   "execution_count": 3,
   "id": "edf377ab-6126-49da-aaf6-6b0a67baf912",
   "metadata": {
    "tags": []
   },
   "outputs": [],
   "source": [
    "#Drop the duplicates\n",
    "census_df = census_df.drop_duplicates('State')\n",
    "\n",
    "#Double-check dataframe \n",
    "#census_df"
   ]
  },
  {
   "cell_type": "code",
   "execution_count": 4,
   "id": "1d0b82d4-d696-41c3-b53f-d21db343db24",
   "metadata": {},
   "outputs": [],
   "source": [
    "#Remove commas and dollar signs from income column and convert values into numeric data\n",
    "\n",
    "census_df.Income = census_df.Income.replace(r'[,\\$]','', regex=True)\n",
    "census_df.Income = pd.to_numeric(census_df.Income)"
   ]
  },
  {
   "cell_type": "code",
   "execution_count": 5,
   "id": "2efdf304-9901-4589-b04e-abd0dcf1d25a",
   "metadata": {
    "tags": []
   },
   "outputs": [
    {
     "name": "stdout",
     "output_type": "stream",
     "text": [
      "Number of NaN values in Women column: 2\n"
     ]
    }
   ],
   "source": [
    "#Split gender into multiple columns\n",
    "gender_split = census_df.GenderPop.str.split('_')\n",
    "\n",
    "census_df['Men'] = gender_split.str.get(0)\n",
    "census_df['Women'] = gender_split.str.get(1)\n",
    "\n",
    "#Remove M and F characters and convert values into numeric data\n",
    "census_df.Men = census_df.Men.replace(r'M','', regex=True)\n",
    "census_df.Men = pd.to_numeric(census_df.Men)\n",
    "census_df.Women = census_df.Women.replace(r'F','', regex=True)\n",
    "census_df.Women = pd.to_numeric(census_df.Women)\n",
    "\n",
    "#Check the new Women column for NaN values\n",
    "print('Number of NaN values in Women column:', census_df.Women.isnull().sum())"
   ]
  },
  {
   "cell_type": "code",
   "execution_count": 6,
   "id": "356cc816-f3da-42d0-8e89-a1ada4980b88",
   "metadata": {},
   "outputs": [],
   "source": [
    "#Remove old gender column\n",
    "census_df = census_df.drop(columns=['GenderPop'])\n",
    "\n",
    "#Fill in missing values in the Women column\n",
    "census_df['Women'] = census_df['Women'].fillna(census_df.TotalPop - census_df.Men)"
   ]
  },
  {
   "cell_type": "code",
   "execution_count": 7,
   "id": "df0e0abd-ab5b-43e6-949e-f762ec2e45e4",
   "metadata": {},
   "outputs": [
    {
     "data": {
      "text/plain": [
       "Text(0.5, 1.0, 'Gender Ratio and Income')"
      ]
     },
     "execution_count": 7,
     "metadata": {},
     "output_type": "execute_result"
    },
    {
     "data": {
      "image/png": "[encoded data removed]",
      "text/plain": [
       "<Figure size 432x288 with 1 Axes>"
      ]
     },
     "metadata": {
      "needs_background": "light"
     },
     "output_type": "display_data"
    }
   ],
   "source": [
    "#View replationship between population gender ratio and average income\n",
    "plt.scatter(census_df.Women/(census_df.Women+census_df.Men), census_df.Income) \n",
    "plt.xlabel('Female Gender Ratio')\n",
    "plt.ylabel('Average Income')\n",
    "plt.title('Gender Ratio and Income')\n"
   ]
  },
  {
   "cell_type": "code",
   "execution_count": 8,
   "id": "1a895e56-3266-4f82-a8c7-305255c85073",
   "metadata": {},
   "outputs": [],
   "source": [
    "#Remove percentage signs from dataframe and convert values into numeric data\n",
    "\n",
    "census_df.Hispanic = census_df.Hispanic.replace('[%,]','',regex=True)\n",
    "census_df.Hispanic = pd.to_numeric(census_df.Hispanic)\n",
    "\n",
    "census_df.White = census_df.White.replace('[%,]','',regex=True)\n",
    "census_df.White = pd.to_numeric(census_df.White)\n",
    "\n",
    "census_df.Black = census_df.Black.replace('[%,]','',regex=True)\n",
    "census_df.Black = pd.to_numeric(census_df.Black)\n",
    "\n",
    "census_df.Native = census_df.Native.replace('[%,]','',regex=True)\n",
    "census_df.Native = pd.to_numeric(census_df.Native)\n",
    "\n",
    "census_df.Asian = census_df.Asian.replace('[%,]','',regex=True)\n",
    "census_df.Asian = pd.to_numeric(census_df.Asian)\n",
    "\n",
    "census_df.Pacific = census_df.Pacific.replace('[%,]','',regex=True)\n",
    "census_df.Pacific = pd.to_numeric(census_df.Pacific)\n"
   ]
  },
  {
   "cell_type": "code",
   "execution_count": 9,
   "id": "391a04f8-df6b-411a-94ed-60aa96ed1a88",
   "metadata": {},
   "outputs": [
    {
     "name": "stdout",
     "output_type": "stream",
     "text": [
      "Unnamed: 0      int64\n",
      "State          object\n",
      "TotalPop        int64\n",
      "Hispanic      float64\n",
      "White         float64\n",
      "Black         float64\n",
      "Native        float64\n",
      "Asian         float64\n",
      "Pacific       float64\n",
      "Income        float64\n",
      "Men             int64\n",
      "Women         float64\n",
      "dtype: object\n",
      "Unnamed: 0    0\n",
      "State         0\n",
      "TotalPop      0\n",
      "Hispanic      0\n",
      "White         0\n",
      "Black         0\n",
      "Native        0\n",
      "Asian         0\n",
      "Pacific       4\n",
      "Income        0\n",
      "Men           0\n",
      "Women         0\n",
      "dtype: int64\n"
     ]
    }
   ],
   "source": [
    "#Recheck datatypes\n",
    "print(census_df.dtypes)\n",
    "\n",
    "#Check for nan values\n",
    "print(census_df.isnull().sum())\n"
   ]
  },
  {
   "cell_type": "code",
   "execution_count": 10,
   "id": "35ec0ce9-bdaa-4837-8706-14379eafae9f",
   "metadata": {},
   "outputs": [],
   "source": [
    "#Fill in missing values in the 'Pacific' column\n",
    "census_df['Pacific'] = census_df['Pacific'].fillna(100 - (census_df['Hispanic'] +census_df['Black']+census_df['White']+census_df['Native']+census_df['Asian']))\n"
   ]
  },
  {
   "cell_type": "code",
   "execution_count": 11,
   "id": "73fd633b-1e85-4129-bae6-ae0505437472",
   "metadata": {},
   "outputs": [
    {
     "data": {
      "image/png": "[encoded data removed]",
      "text/plain": [
       "<Figure size 1080x504 with 1 Axes>"
      ]
     },
     "metadata": {
      "needs_background": "light"
     },
     "output_type": "display_data"
    }
   ],
   "source": [
    "\n",
    "plt.figure(figsize=(15,7))\n",
    "\n",
    "plt.hist(census_df.Hispanic, bins=15, label='hispanic')\n",
    "plt.hist(census_df.White, bins=15, label='white')\n",
    "plt.hist(census_df.Black, bins=15, label='black')\n",
    "plt.hist(census_df.Asian, bins=15, label='asian')\n",
    "plt.hist(census_df.Native, bins=15, label='native')\n",
    "plt.hist(census_df.Pacific, bins=15, label='pacific')\n",
    "plt.legend()\n",
    "plt.xlabel('Percentage of State Population')\n",
    "plt.ylabel('Number of states')\n",
    "\n",
    "plt.show()\n"
   ]
  },
  {
   "cell_type": "code",
   "execution_count": null,
   "id": "ce42b8b1-71d6-415b-b1f7-8255c1c147db",
   "metadata": {},
   "outputs": [],
   "source": []
  }
 ],
 "metadata": {
  "kernelspec": {
   "display_name": "Python 3",
   "language": "python",
   "name": "python3"
  },
  "language_info": {
   "codemirror_mode": {
    "name": "ipython",
    "version": 3
   },
   "file_extension": ".py",
   "mimetype": "text/x-python",
   "name": "python",
   "nbconvert_exporter": "python",
   "pygments_lexer": "ipython3",
   "version": "3.8.8"
  }
 },
 "nbformat": 4,
 "nbformat_minor": 5
}
