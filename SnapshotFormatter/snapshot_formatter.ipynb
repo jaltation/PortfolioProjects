{
 "cells": [
  {
   "cell_type": "code",
   "execution_count": 1,
   "id": "fd3a612e-a326-49c8-9928-fbd986e21c36",
   "metadata": {
    "tags": []
   },
   "outputs": [],
   "source": [
    "import sys\n",
    "sys.path.append(\"Scripts\")\n",
    "\n",
    "import pandas as pd\n",
    "import os\n",
    "\n",
    "from openpyxl import Workbook\n",
    "from openpyxl.reader.excel import load_workbook\n",
    "\n",
    "from datetime import datetime\n",
    "timer_start_time = datetime.now()"
   ]
  },
  {
   "cell_type": "code",
   "execution_count": 2,
   "id": "72a50173-ede1-4872-aa2e-53592257914c",
   "metadata": {
    "tags": []
   },
   "outputs": [],
   "source": [
    "from colors import Color, pattern_fill\n",
    "from snapshot_structures import *\n",
    "from header import format_header\n",
    "\n",
    "from caseload_details import highlight_no_values, highlight_cm_switch, highlight_SEL, highlight_tsg_no_attendance\n",
    "from checkins import highlight_no_checkins, highlight_exits\n",
    "from sc_entries import highlight_sc_entries\n",
    "from tier1 import highlight_zero_parents, highlight_tier1_notes, tier1_missing_activity\n",
    "\n",
    "from tsg_minimum import highlight_initiative, highlight_activity\n",
    "\n",
    "from tier2 import *\n",
    "from ssp_goals import *\n",
    "from attributes import *\n",
    "from contacts import *"
   ]
  },
  {
   "cell_type": "markdown",
   "id": "448f7d29-8f69-441c-b486-0626fc0cc881",
   "metadata": {},
   "source": [
    "Split All-school file into individual school files"
   ]
  },
  {
   "cell_type": "code",
   "execution_count": 3,
   "id": "f55399f1-98ee-48f4-915a-7018c7e078ab",
   "metadata": {
    "tags": []
   },
   "outputs": [],
   "source": [
    "#--Need to add check for column names/order\n",
    "\n",
    "#Save each tab from All School Snapshot as individual dataframe\n",
    "cld_df = pd.read_excel('Snapshots\\\\All School Snapshot Prep Flow Output.xlsx', sheet_name='Caseload Details')\n",
    "cld_df = cld_df.sort_values(by=['School', 'Case Manager', 'Student'])\n",
    "\n",
    "check_in_df = pd.read_excel('Snapshots\\\\All School Snapshot Prep Flow Output.xlsx', sheet_name='Check-ins')\n",
    "check_in_df = check_in_df.sort_values(by=['School', 'Case Manager', 'Student'])\n",
    "\n",
    "sc_entries_df = pd.read_excel('Snapshots\\\\All School Snapshot Prep Flow Output.xlsx', sheet_name='Site Coordination Entries')\n",
    "sc_entries_df['Date'] = pd.Categorical(sc_entries_df['Date'], month_order)\n",
    "sc_entries_df = sc_entries_df.sort_values(by=['School', 'Date'])\n",
    "\n",
    "tier1_df = pd.read_excel('Snapshots\\\\All School Snapshot Prep Flow Output.xlsx', sheet_name='Tier 1')\n",
    "tier1_df = tier1_df.sort_values(by=['School', 'Entered By', 'Start Date'])\n",
    "\n",
    "# The following dataframes are based on sheets that may only be seasonally available\n",
    "tier2_df = None\n",
    "goal_check_df = None\n",
    "attr_check_df = None\n",
    "contact_df = None\n",
    "\n",
    "try:\n",
    "    tier2_df = pd.read_excel('Snapshots\\\\All School Snapshot Prep Flow Output.xlsx', sheet_name='Tier II')\n",
    "    tier2_df = tier2_df.sort_values(by=['School', 'Entered By', 'Support Date'])\n",
    "except:\n",
    "    pass\n",
    "try:\n",
    "    goal_check_df = pd.read_excel('Snapshots\\\\All School Snapshot Prep Flow Output.xlsx', sheet_name='SSP Goals')\n",
    "    goal_check_df = goal_check_df.sort_values(by=['School', 'Case Manager', 'Student'])\n",
    "except:\n",
    "    pass\n",
    "try:\n",
    "    attr_check_df = pd.read_excel('Snapshots\\\\All School Snapshot Prep Flow Output.xlsx', sheet_name='Attributes Check')\n",
    "    attr_check_df = attr_check_df.sort_values(by=['School', 'Case Manager', 'Student'])\n",
    "except:\n",
    "    pass\n",
    "try:\n",
    "    contact_df = pd.read_excel('Snapshots\\\\All School Snapshot Prep Flow Output.xlsx', sheet_name='Contact Info')\n",
    "    contact_df = contact_df.sort_values(by=['School', 'Case Manager', 'Student'])\n",
    "except:\n",
    "    pass\n",
    "\n"
   ]
  },
  {
   "cell_type": "code",
   "execution_count": 4,
   "id": "8429e9fe-3150-4091-9c2c-4449781f9d0f",
   "metadata": {
    "tags": []
   },
   "outputs": [
    {
     "name": "stdout",
     "output_type": "stream",
     "text": [
      "fail count for attributes is 3\n",
      "fail count for goals is 3\n",
      "fail count for tier2 is 3\n",
      "fail count for contacts is 3\n"
     ]
    }
   ],
   "source": [
    "# Save all-school with sorted dataframes\n",
    "with pd.ExcelWriter(f'Snapshots\\\\All School Snapshot Prep Flow Output.xlsx', date_format='M/D/YYYY', datetime_format='M/D/YYYY') as writer:\n",
    "        cld_df.to_excel(writer, sheet_name= 'Caseload Details', index=False)\n",
    "        check_in_df.to_excel(writer, sheet_name= 'Check-ins', index=False)\n",
    "        sc_entries_df.to_excel(writer, sheet_name= 'Site Coordination Entries', index=False)\n",
    "        tier1_df.to_excel(writer, sheet_name= 'Tier 1', index=False)     \n",
    "        try:    \n",
    "            tier2_df.to_excel(writer, sheet_name= 'Tier II', index=False)\n",
    "        except:\n",
    "            pass          \n",
    "        try:    \n",
    "            goal_check_df.to_excel(writer, sheet_name= 'SSP Goals', index=False)\n",
    "        except:\n",
    "            pass\n",
    "        try:\n",
    "            attr_check_df.to_excel(writer, sheet_name= 'Attributes Check', index=False)\n",
    "        except:\n",
    "            pass     \n",
    "        try:    \n",
    "            contact_df.to_excel(writer, sheet_name= 'Contact Info', index=False)\n",
    "        except:\n",
    "            pass\n",
    "\n",
    "\n",
    "#Split all-school file into individual school files\n",
    "schools = list(sc_entries_df.School.unique())\n",
    "tier2_missing = []\n",
    "fail_count = {'attributes': 0, 'goals': 0, 'tier2': 0, 'contacts': 0}\n",
    "for school in schools:\n",
    "    df1 = cld_df[cld_df.School == school]\n",
    "    df2 = check_in_df[check_in_df.School == school]\n",
    "    df3 = sc_entries_df[sc_entries_df.School == school]\n",
    "    df4 = tier1_df[tier1_df.School == school]\n",
    "    \n",
    "    try:\n",
    "        df5 = tier2_df[tier2_df.School == school]\n",
    "    except:\n",
    "        fail_count['tier2'] += 1\n",
    "    try:\n",
    "        df6 = goal_check_df[goal_check_df.School == school]\n",
    "    except:\n",
    "        fail_count['goals'] += 1\n",
    "    try:\n",
    "        df7 = attr_check_df[attr_check_df.School == school]\n",
    "    except:\n",
    "        fail_count['attributes'] += 1\n",
    "    try:\n",
    "        df8 = contact_df[contact_df.School == school]\n",
    "    except:\n",
    "        fail_count['contacts'] += 1\n",
    "\n",
    "    \n",
    "    with pd.ExcelWriter(f'Snapshots/Archive/school files/{school} Snapshot.xlsx', date_format='M/D/YYYY', datetime_format='M/D/YYYY') as writer:\n",
    "        df1.to_excel(writer, sheet_name= 'Caseload Details', index=False)\n",
    "        df2.to_excel(writer, sheet_name= 'Check-ins', index=False)\n",
    "        df3.to_excel(writer, sheet_name= 'Site Coordination Entries', index=False)\n",
    "        df4.to_excel(writer, sheet_name= 'Tier 1', index=False)     \n",
    "        try:    \n",
    "            df5.to_excel(writer, sheet_name= 'Tier II', index=False)\n",
    "        except:\n",
    "            pass          \n",
    "        try:    \n",
    "            df6.to_excel(writer, sheet_name= 'SSP Goals', index=False)\n",
    "        except:\n",
    "            pass\n",
    "        try:\n",
    "            df7.to_excel(writer, sheet_name= 'Attributes Check', index=False)\n",
    "        except:\n",
    "            pass     \n",
    "        try:    \n",
    "            df8.to_excel(writer, sheet_name= 'Contact Info', index=False)\n",
    "        except:\n",
    "            pass\n",
    "\n",
    "for i in fail_count.keys():\n",
    "    if fail_count[i] > 0:\n",
    "        print(f\"fail count for {i} is {fail_count[i]}\")"
   ]
  },
  {
   "cell_type": "markdown",
   "id": "59fa3e66-7e94-4690-82e6-b3117963e3ce",
   "metadata": {},
   "source": [
    "Create function that applies each highlight function"
   ]
  },
  {
   "cell_type": "code",
   "execution_count": 5,
   "id": "5c2b1d43-698e-4870-897c-f9316ce8c69f",
   "metadata": {
    "tags": []
   },
   "outputs": [],
   "source": [
    "#Adds highlights to cells\n",
    "def monthly_format(book): \n",
    "    #turn the dataframes into sheets\n",
    "    cld = book['Caseload Details']\n",
    "    cie = book['Check-ins']\n",
    "    sce = book['Site Coordination Entries']\n",
    "    tr1 = book['Tier 1']\n",
    "    \n",
    "    highlight_no_values(cld)\n",
    "    highlight_SEL(cld)\n",
    "    highlight_tsg_no_attendance(cld)\n",
    "    highlight_cm_switch(cld)\n",
    "    \n",
    "    highlight_no_checkins(cie)\n",
    "    highlight_exits(cie)\n",
    "    \n",
    "    highlight_sc_entries(sce)\n",
    "    \n",
    "    highlight_zero_parents(tr1)\n",
    "    highlight_tier1_notes(tr1)\n",
    "    tier1_missing_activity(tr1)\n",
    "    "
   ]
  },
  {
   "cell_type": "code",
   "execution_count": 6,
   "id": "268a5cd1-56f5-4469-a954-ad17babba7bd",
   "metadata": {},
   "outputs": [],
   "source": [
    "# Create function that applies quarterly functions\n",
    "#--Need to update functions to take in sheet instead of book--\n",
    "quarterly_tally = {'SSP': 0, 'Attributes': 0, 'Tier II': 0, 'Contacts': 0}\n",
    "\n",
    "def quarterly_format(book):\n",
    "    try:\n",
    "        tier2_missing_activity(book)\n",
    "        tier2_missing_notes(book)\n",
    "    except:\n",
    "        quarterly_tally['Tier II'] += 1\n",
    "        \n",
    "    try:\n",
    "        ssp_less_than_2_goals(book)\n",
    "        ssp_zero_baseline(book)\n",
    "        ssp_no_SEL_goals(book)\n",
    "        ssp_highlight_banned_goals(book)\n",
    "    except:\n",
    "        quarterly_tally['SSP'] += 1\n",
    "    \n",
    "    try:\n",
    "        attributes_check(book)\n",
    "    except:\n",
    "        quarterly_tally['Attributes'] += 1\n",
    "        \n",
    "    try:\n",
    "        highlight_missing_contact(book)\n",
    "    except:\n",
    "        quarterly_tally['Contacts'] += 1\n",
    "\n"
   ]
  },
  {
   "cell_type": "markdown",
   "id": "fbdc40eb-eaf8-40bc-981e-e19adaf51fe2",
   "metadata": {
    "tags": []
   },
   "source": [
    "Create folder using current date"
   ]
  },
  {
   "cell_type": "code",
   "execution_count": 7,
   "id": "5d4e993e-e209-48d5-8486-be4006477d61",
   "metadata": {},
   "outputs": [],
   "source": [
    "# Create folder using today's date\n",
    "path = 'Snapshots\\\\School Snapshots ' + today_str\n",
    "try:\n",
    "    os.mkdir(path)\n",
    "except:\n",
    "    pass\n"
   ]
  },
  {
   "cell_type": "markdown",
   "id": "bbeedcd6-f421-4535-8c6b-75254fe75046",
   "metadata": {},
   "source": [
    "Format all-school snapshot and put it in dated folder"
   ]
  },
  {
   "cell_type": "code",
   "execution_count": 8,
   "id": "e7da136d-930f-4a60-81e2-db533b9715ca",
   "metadata": {
    "tags": []
   },
   "outputs": [],
   "source": [
    "wb = load_workbook('Snapshots\\\\All School Snapshot Prep Flow Output.xlsx')\n",
    "format_header(wb)\n",
    "monthly_format(wb)\n",
    "highlight_initiative(wb, all_school=True)\n",
    "highlight_activity(wb, all_school=True)\n",
    "quarterly_format(wb)\n",
    "\n",
    "wb.save(path + '\\\\All School Snapshot '+ today_str + '.xlsx')"
   ]
  },
  {
   "cell_type": "markdown",
   "id": "ee3a9c2d-aa13-4a29-84d1-cde3ca841903",
   "metadata": {},
   "source": [
    "Format each individual school file and put them in dated folder\n",
    "\n",
    "Remove various columns"
   ]
  },
  {
   "cell_type": "code",
   "execution_count": 9,
   "id": "2de49001-802e-4fab-aa93-c60fe0f46e84",
   "metadata": {
    "tags": []
   },
   "outputs": [
    {
     "name": "stdout",
     "output_type": "stream",
     "text": [
      "---------------- Sheets with no data? ----------------\n",
      "SSP page has 4 files with no data\n",
      "Attributes page has 4 files with no data\n",
      "Tier II page has 4 files with no data\n",
      "Contacts page has 4 files with no data\n"
     ]
    }
   ],
   "source": [
    "for file in os.listdir('Snapshots\\\\Archive\\\\school files'):\n",
    "    book = load_workbook('Snapshots\\\\Archive\\\\school files\\\\' + file)\n",
    "    monthly_format(book)\n",
    "    try:\n",
    "        quarterly_format(book)\n",
    "    except:\n",
    "        pass\n",
    "    highlight_initiative(book, school=file[:-14])\n",
    "    highlight_activity(book, school=file[:-14])\n",
    "    \n",
    "\n",
    "    # Remove TSG columnss not in school's overview matrix\n",
    "    # columns have to be removed in reverse order to maintain consistent indices\n",
    "    for school in school_tsg:\n",
    "        if school in file:\n",
    "            removal_list = [x for x in initiatives if x not in school_tsg[school]]\n",
    "            removal_list.reverse()\n",
    "            for col in removal_list:\n",
    "                book['Caseload Details'].delete_cols(cld_col_num[col], 1)    \n",
    "    \n",
    "    # Adjust column widths & save to file\n",
    "    format_header(book)\n",
    "    \n",
    "    book.save(path + '\\\\' + file[:-5] + ' ' + today_str + '.xlsx')\n",
    "\n",
    "quarterly_tally_sum = 0\n",
    "for i in quarterly_tally:\n",
    "    quarterly_tally_sum += quarterly_tally[i]\n",
    "if quarterly_tally_sum:\n",
    "    print('-'*16, 'Sheets with no data?', '-'*16)\n",
    "    for sheet_name in quarterly_tally:\n",
    "        if quarterly_tally[sheet_name] > 0:\n",
    "            print(f\"{sheet_name} page has {quarterly_tally[sheet_name]} files with no data\")"
   ]
  },
  {
   "cell_type": "code",
   "execution_count": 10,
   "id": "5a09db67-679d-4b63-8e54-2f01e911c202",
   "metadata": {},
   "outputs": [
    {
     "name": "stdout",
     "output_type": "stream",
     "text": [
      "Duration: 0:00:01.735852\n"
     ]
    }
   ],
   "source": [
    "timer_end_time = datetime.now()\n",
    "print('Duration: {}'.format(timer_end_time - timer_start_time))"
   ]
  }
 ],
 "metadata": {
  "kernelspec": {
   "display_name": "Python 3",
   "language": "python",
   "name": "python3"
  },
  "language_info": {
   "codemirror_mode": {
    "name": "ipython",
    "version": 3
   },
   "file_extension": ".py",
   "mimetype": "text/x-python",
   "name": "python",
   "nbconvert_exporter": "python",
   "pygments_lexer": "ipython3",
   "version": "3.8.8"
  }
 },
 "nbformat": 4,
 "nbformat_minor": 5
}
